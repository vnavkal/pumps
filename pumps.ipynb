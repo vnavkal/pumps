{
 "cells": [
  {
   "cell_type": "code",
   "execution_count": 1,
   "metadata": {
    "autoscroll": "json-false",
    "collapsed": false,
    "ein.tags": [
     "worksheet-0"
    ],
    "slideshow": {
     "slide_type": "-"
    }
   },
   "outputs": [],
   "source": [
    "import pandas as pd\n",
    "import numpy as np\n",
    "from matplotlib import pyplot as plt\n",
    "from scipy.stats import poisson, norm\n",
    "from scipy.special import expit\n",
    "from functools import lru_cache"
   ]
  },
  {
   "cell_type": "markdown",
   "metadata": {
    "ein.tags": [
     "worksheet-0"
    ],
    "slideshow": {
     "slide_type": "-"
    }
   },
   "source": [
    "<center><h1>Identifying pumps</h1></center>"
   ]
  },
  {
   "cell_type": "markdown",
   "metadata": {
    "ein.tags": [
     "worksheet-0"
    ],
    "slideshow": {
     "slide_type": "-"
    }
   },
   "source": [
    "## Approach"
   ]
  },
  {
   "cell_type": "markdown",
   "metadata": {
    "ein.tags": [
     "worksheet-0"
    ],
    "slideshow": {
     "slide_type": "-"
    }
   },
   "source": [
    "In order to determine which residences had pumps, I needed a way to distinguish pump power consumption patterns from those of other household appliances.  I hypothesized that a typical pump\n",
    "<ol>\n",
    "<li>consumes more power than the typical appliance</li>\n",
    "<li>mostly turns on or off suddenly, so could cause power \"spikes\" that not all other appliances would produce</li>\n",
    "</ol>\n",
    "\n",
    "These hypotheses led me to the following procedure:\n",
    "<ol>\n",
    "<li>estimate the distribution of a typical residence's change in power usage in an arbitrary time interval, both with and without a pump</li>\n",
    "<li>calculate, for each sample residence, the change in power usage between each adjacent pair of timestamps</li>\n",
    "<li>compare each sample residence's changes in power usage with the distributions I estimated, and use the comparison to estimate the probability that the residence has a pump</li>\n",
    "<li>suggest the three residences with highest probabilities of containing pumps as the ones with pumps</li>\n",
    "</ol>\n",
    "\n",
    "As I implement this approach below, I'll make many assumptions, most of which are probably quite inaccurate.  But I think the approach establishes a good general framework, one that could support a very reasonable model for discriminating between households with and without pumps."
   ]
  },
  {
   "cell_type": "markdown",
   "metadata": {
    "ein.tags": [
     "worksheet-0"
    ],
    "slideshow": {
     "slide_type": "-"
    }
   },
   "source": [
    "## Notation"
   ]
  },
  {
   "cell_type": "markdown",
   "metadata": {
    "ein.tags": [
     "worksheet-0"
    ],
    "slideshow": {
     "slide_type": "-"
    }
   },
   "source": [
    "Let\n",
    "* $X^{(t)}$ be the continuous random variable measuring a household's change in power consumption in a random interval of length $t$ seconds\n",
    "* $\\mbox{pump}$ be the binary random variable corresponding to the presence of a pump\n",
    "\n",
    "I use $p$ to denote the probability density function (pdf).  So $p(X^{(t)} \\mid \\mbox{pump})$ expresses the pdf of $X^{(t)}$ in a house with a pump, and $p(X^{(t)} \\mid \\neg \\mbox{pump})$ expresses the pdf of $X^{(t)}$ in a house with no pump."
   ]
  },
  {
   "cell_type": "markdown",
   "metadata": {
    "ein.tags": [
     "worksheet-0"
    ],
    "slideshow": {
     "slide_type": "-"
    }
   },
   "source": [
    "I will represent probability distributions in code as pandas `Series` objects.  Even when they don't have compact support, they'll be nearly zero at sufficiently large values, so the representation in large arrays is safe.  I'll index these `Series` objects by the array `L` defined in the next code block."
   ]
  },
  {
   "cell_type": "code",
   "execution_count": 2,
   "metadata": {
    "autoscroll": "json-false",
    "collapsed": false,
    "ein.tags": [
     "worksheet-0"
    ],
    "slideshow": {
     "slide_type": "-"
    }
   },
   "outputs": [],
   "source": [
    "INFINITY = 10000\n",
    "L = np.arange(-INFINITY, INFINITY)"
   ]
  },
  {
   "cell_type": "markdown",
   "metadata": {
    "ein.tags": [
     "worksheet-0"
    ],
    "slideshow": {
     "slide_type": "-"
    }
   },
   "source": [
    "For example, the following `Series` would represent a standard normal distribution:"
   ]
  },
  {
   "cell_type": "code",
   "execution_count": 0,
   "metadata": {
    "autoscroll": "json-false",
    "collapsed": false,
    "ein.tags": [
     "worksheet-0"
    ],
    "slideshow": {
     "slide_type": "-"
    }
   },
   "outputs": [],
   "source": [
    "pd.Series(norm.pdf(L, loc=0, scale=1), index=L)"
   ]
  },
  {
   "cell_type": "markdown",
   "metadata": {
    "ein.tags": [
     "worksheet-0"
    ],
    "slideshow": {
     "slide_type": "-"
    }
   },
   "source": [
    "## Parse the data"
   ]
  },
  {
   "cell_type": "markdown",
   "metadata": {
    "ein.tags": [
     "worksheet-0"
    ],
    "slideshow": {
     "slide_type": "-"
    }
   },
   "source": [
    "Here is the code I use to read the data and calculate the change in power consumption between each consecutive pair of measurements."
   ]
  },
  {
   "cell_type": "code",
   "execution_count": 3,
   "metadata": {
    "autoscroll": "json-false",
    "collapsed": false,
    "ein.tags": [
     "worksheet-0"
    ],
    "slideshow": {
     "slide_type": "-"
    }
   },
   "outputs": [],
   "source": [
    "file_numbers = (12, 13, 14, 20, 22, 40)\n",
    "\n",
    "data = {i: pd.read_csv('UsageData_{0}.csv'.format(i)) for i in file_numbers}\n",
    "\n",
    "def calculate_diffs(df):\n",
    "    ary = df[['timestamp', 'amount']].values # cast to array to ignore index when subtracting\n",
    "    d = pd.DataFrame(ary[1:,:] - ary[:-1,:], columns=['timedelta', 'wattdelta'])\n",
    "    d['wattdelta'] = (d['wattdelta'] * 1000).astype(int)\n",
    "    return d\n",
    "\n",
    "diffs = {i: calculate_diffs(df) for i, df in data.items()}"
   ]
  },
  {
   "cell_type": "markdown",
   "metadata": {
    "ein.tags": [
     "worksheet-0"
    ],
    "slideshow": {
     "slide_type": "-"
    }
   },
   "source": [
    "`diffs` will be used again in subsequent sections."
   ]
  },
  {
   "cell_type": "markdown",
   "metadata": {
    "ein.tags": [
     "worksheet-0"
    ],
    "slideshow": {
     "slide_type": "-"
    }
   },
   "source": [
    "## Distribution of power changes without a pump"
   ]
  },
  {
   "cell_type": "markdown",
   "metadata": {
    "ein.tags": [
     "worksheet-0"
    ],
    "slideshow": {
     "slide_type": "-"
    }
   },
   "source": [
    "This section explains my approach to estimate the distribution of changes in power in a house with no pump."
   ]
  },
  {
   "cell_type": "markdown",
   "metadata": {
    "ein.tags": [
     "worksheet-0"
    ],
    "slideshow": {
     "slide_type": "-"
    }
   },
   "source": [
    "##### Assumptions"
   ]
  },
  {
   "cell_type": "markdown",
   "metadata": {
    "ein.tags": [
     "worksheet-0"
    ],
    "slideshow": {
     "slide_type": "-"
    }
   },
   "source": [
    "Make the following assumptions:\n",
    "<ol>\n",
    "<li> The distribution of changes in power associated with a single (non-pump) device being switched on or off is normal, with standard deviation of 100 watts:\n",
    "$$\n",
    "\\mbox{change in power when one device is switched on or off} \\sim N(0, \\sigma ^2) \\\\\n",
    "\\sigma = 100\\mbox{ watts}\n",
    "$$\n",
    "</li>\n",
    "<li>Devices are switched on or off independently of each other, and on average, two devices are switched on or off per hour.</li>\n",
    "<li>In the absence of a pump, all changes in power consumption can be attributed to a non-pump device switching on and off.</li>\n",
    "</ol>"
   ]
  },
  {
   "cell_type": "markdown",
   "metadata": {
    "ein.tags": [
     "worksheet-0"
    ],
    "slideshow": {
     "slide_type": "-"
    }
   },
   "source": [
    "##### Derivation of formula"
   ]
  },
  {
   "cell_type": "markdown",
   "metadata": {
    "ein.tags": [
     "worksheet-0"
    ],
    "slideshow": {
     "slide_type": "-"
    }
   },
   "source": [
    "Using assumption 1 and the usual formula for the sum of normally distributed random variables, we see that the distribution of changes in power associated with $n$ household devices being switched on or off is\n",
    "$$\n",
    "\\mbox{change in power when }n\\mbox{ devices are switched on or off} \\sim \\begin{cases}N(0, n\\sigma ^2) & \\mbox{if }n > 0 \\\\\n",
    "\\delta(0) & \\mbox{if }n = 0\n",
    "\\end{cases}\\\\\n",
    "\\sigma = 100\\mbox{ watts}\n",
    "$$\n",
    "where $\\delta(0)$ is the Dirac delta distribution supported at $0$.  Here is code that generates this distribution."
   ]
  },
  {
   "cell_type": "code",
   "execution_count": 4,
   "metadata": {
    "autoscroll": "json-false",
    "collapsed": false,
    "ein.tags": [
     "worksheet-0"
    ],
    "slideshow": {
     "slide_type": "-"
    }
   },
   "outputs": [],
   "source": [
    "def pdf_given_n_devices_get_switched(n):\n",
    "    if n == 0:\n",
    "        return pd.Series(L == 0, index=L).astype(float)\n",
    "    else:\n",
    "        loc = 0\n",
    "        std = 100\n",
    "        return pd.Series(norm.pdf(L, loc, np.sqrt(n) * std), index=L)"
   ]
  },
  {
   "cell_type": "markdown",
   "metadata": {
    "ein.tags": [
     "worksheet-0"
    ],
    "slideshow": {
     "slide_type": "-"
    }
   },
   "source": [
    "It follows from assumption 2 that the number of \"device switch\" events, consisting of any non-pump device being turned on or off, has a Poisson distribution:\n",
    "$$\n",
    "P(n\\mbox{ devices switched on or off in }t\\mbox{ hours}) = \\frac{\\lambda ^n e^{-\\lambda}}{n!} \\\\\n",
    "\\lambda = (2\\mbox{ events/hour}) \\cdot t\n",
    "$$\n",
    "Here is the translation to code:"
   ]
  },
  {
   "cell_type": "code",
   "execution_count": 5,
   "metadata": {
    "autoscroll": "json-false",
    "collapsed": false,
    "ein.tags": [
     "worksheet-0"
    ],
    "slideshow": {
     "slide_type": "-"
    }
   },
   "outputs": [],
   "source": [
    "def probability_n_devices_get_switched(n, interval_seconds):\n",
    "    hourly_frequency = 2\n",
    "    return poisson.pmf(n, hourly_frequency * interval_seconds / 3600)"
   ]
  },
  {
   "cell_type": "markdown",
   "metadata": {
    "ein.tags": [
     "worksheet-0"
    ],
    "slideshow": {
     "slide_type": "-"
    }
   },
   "source": [
    "It follows that distribution of changes in power attributable to non-pump devices is\n",
    "\n",
    "\\begin{align*}\n",
    "p(X^{(t)} \\mid \\neg \\mbox{pump}) &= e^{-\\lambda} \\delta(0) + \\sum _{n > 0}\\frac{\\lambda ^n e^{-\\lambda}}{n!}N(0, n\\sigma ^2)\n",
    "\\end{align*}\n",
    "\n",
    "The `pdf_given_no_pump` function returns this distribution."
   ]
  },
  {
   "cell_type": "code",
   "execution_count": 6,
   "metadata": {
    "autoscroll": "json-false",
    "collapsed": false,
    "ein.tags": [
     "worksheet-0"
    ],
    "slideshow": {
     "slide_type": "-"
    }
   },
   "outputs": [],
   "source": [
    "@lru_cache(maxsize=5) # memoize the result\n",
    "def pdf_given_no_pump(interval_seconds):\n",
    "    max_number_of_devices_reasonably_switched = int(interval_seconds / 60)\n",
    "    return sum([probability_n_devices_get_switched(n, interval_seconds) *\n",
    "                pdf_given_n_devices_get_switched(n)\n",
    "                for n in range(max_number_of_devices_reasonably_switched)])"
   ]
  },
  {
   "cell_type": "markdown",
   "metadata": {
    "ein.tags": [
     "worksheet-0"
    ],
    "slideshow": {
     "slide_type": "-"
    }
   },
   "source": [
    "## Distribution of power changes with a pump"
   ]
  },
  {
   "cell_type": "markdown",
   "metadata": {
    "ein.tags": [
     "worksheet-0"
    ],
    "slideshow": {
     "slide_type": "-"
    }
   },
   "source": [
    "This section explains my approach to estimating the distribution of changes in power in a house with a pump."
   ]
  },
  {
   "cell_type": "markdown",
   "metadata": {
    "ein.tags": [
     "worksheet-0"
    ],
    "slideshow": {
     "slide_type": "-"
    }
   },
   "source": [
    "##### Assumptions"
   ]
  },
  {
   "cell_type": "markdown",
   "metadata": {
    "ein.tags": [
     "worksheet-0"
    ],
    "slideshow": {
     "slide_type": "-"
    }
   },
   "source": [
    "Assume that in a house with a pump,\n",
    "1. the pump is, on average, switched on or off 10 times per day, and it is equally likely to be switched on or off at any time\n",
    "2. the pump's power consumption is uniformly distributed between 100 and 750 watts"
   ]
  },
  {
   "cell_type": "markdown",
   "metadata": {
    "ein.tags": [
     "worksheet-0"
    ],
    "slideshow": {
     "slide_type": "-"
    }
   },
   "source": [
    "##### Derivation of formula"
   ]
  },
  {
   "cell_type": "markdown",
   "metadata": {
    "ein.tags": [
     "worksheet-0"
    ],
    "slideshow": {
     "slide_type": "-"
    }
   },
   "source": [
    "Here is a function that generates the distribution\n",
    "$$\n",
    "p(X \\mid \\mbox{one pump turns on/off once})\n",
    "$$\n",
    "of changes in power consumption associated with a pump turning on or off once.  It is a direct translation of the second assumption above."
   ]
  },
  {
   "cell_type": "code",
   "execution_count": 7,
   "metadata": {
    "autoscroll": "json-false",
    "collapsed": false,
    "ein.tags": [
     "worksheet-0"
    ],
    "slideshow": {
     "slide_type": "-"
    }
   },
   "outputs": [],
   "source": [
    "def pdf_given_one_pump_switch():\n",
    "    min_pump_wattage = 100\n",
    "    max_pump_wattage = 750\n",
    "    normalization = 0.5 / (max_pump_wattage - min_pump_wattage)\n",
    "    support = ((np.abs(L) <= max_pump_wattage) & (np.abs(L) >= min_pump_wattage))\n",
    "\n",
    "    return pd.Series(support * normalization, index=L)"
   ]
  },
  {
   "cell_type": "markdown",
   "metadata": {
    "ein.tags": [
     "worksheet-0"
    ],
    "slideshow": {
     "slide_type": "-"
    }
   },
   "source": [
    "In a given time interval, we observe a change in power consumption associated with the pump if and only if the pump is switched on or off an odd number of times.  It follow from assumption 1 that the probability of an odd number of switches occurring is\n",
    "$$\n",
    "P(\\mbox{odd number of switches in }t\\mbox{ hours}) = \\frac{1 - e^{-2 t\\rho}}{2} \\\\\n",
    "\\rho = \\frac{10}{24}\\mbox{ switches/hour}\n",
    "$$\n",
    "(See <a href=\"http://math.stackexchange.com/questions/472431/probability-that-an-integer-number-having-poisson-distribution-is-even\">here</a> for a derivation of this formula.)  Here is a corresponding Python function:"
   ]
  },
  {
   "cell_type": "code",
   "execution_count": 8,
   "metadata": {
    "autoscroll": "json-false",
    "collapsed": false,
    "ein.tags": [
     "worksheet-0"
    ],
    "slideshow": {
     "slide_type": "-"
    }
   },
   "outputs": [],
   "source": [
    "def probability_of_odd_num_pump_switches(interval_seconds):\n",
    "    pump_daily_frequency = 10\n",
    "    pump_interval_frequency = interval_seconds * pump_daily_frequency / 24 / 3600\n",
    "\n",
    "    return (1 - np.exp(-2*pump_interval_frequency)) / 2"
   ]
  },
  {
   "cell_type": "markdown",
   "metadata": {
    "ein.tags": [
     "worksheet-0"
    ],
    "slideshow": {
     "slide_type": "-"
    }
   },
   "source": [
    "Therefore the distribution of changes in power consumption attributable to a pump is\n",
    "\n",
    "\\begin{align*}\n",
    "p(X^{(t)}\\mid \\mbox{one pump, no other devices}) =& P(\\mbox{odd number of switches in }t\\mbox{ hours})\\cdot p(X \\mid \\mbox{one pump turns on or off exactly once}) +\\\\\n",
    "& P(\\mbox{even number of switches in }t\\mbox{ hours})\\cdot \\delta(0)\n",
    "\\end{align*}\n",
    "\n",
    "In code:"
   ]
  },
  {
   "cell_type": "code",
   "execution_count": 9,
   "metadata": {
    "autoscroll": "json-false",
    "collapsed": false,
    "ein.tags": [
     "worksheet-0"
    ],
    "slideshow": {
     "slide_type": "-"
    }
   },
   "outputs": [],
   "source": [
    "def pdf_from_pump_alone(interval_seconds):\n",
    "    probability_of_change = probability_of_odd_num_pump_switches(interval_seconds)\n",
    "\n",
    "    return (probability_of_change * pdf_given_one_pump_switch() +\n",
    "            (1 - probability_of_change) * pd.Series(L == 0, index=L))"
   ]
  },
  {
   "cell_type": "markdown",
   "metadata": {
    "ein.tags": [
     "worksheet-0"
    ],
    "slideshow": {
     "slide_type": "-"
    }
   },
   "source": [
    "The distribution of changes in power in a house with a pump is then\n",
    "$$\n",
    "p(X^{(t)} \\mid \\mbox{pump}) = p(X^{(t)} \\mid \\neg\\mbox{pump}) + p(X^{(t)}\\mid \\mbox{one pump, no other devices})\n",
    "$$"
   ]
  },
  {
   "cell_type": "code",
   "execution_count": 10,
   "metadata": {
    "autoscroll": "json-false",
    "collapsed": false,
    "ein.tags": [
     "worksheet-0"
    ],
    "slideshow": {
     "slide_type": "-"
    }
   },
   "outputs": [],
   "source": [
    "@lru_cache(maxsize=5)\n",
    "def pdf_given_pump(interval_seconds):\n",
    "    no_pump_pdf = pdf_given_no_pump(interval_seconds)\n",
    "    pump_pdf = pdf_from_pump_alone(interval_seconds)\n",
    "\n",
    "    # Recall that the convolution of distributions of random variables is the distribution of their\n",
    "    # sum.\n",
    "    return pd.Series(np.convolve(no_pump_pdf, pump_pdf)[INFINITY:3*INFINITY], index=L)"
   ]
  },
  {
   "cell_type": "markdown",
   "metadata": {
    "ein.tags": [
     "worksheet-0"
    ],
    "slideshow": {
     "slide_type": "-"
    }
   },
   "source": [
    "## Calculating the probability of having a pump"
   ]
  },
  {
   "cell_type": "markdown",
   "metadata": {
    "ein.tags": [
     "worksheet-0"
    ],
    "slideshow": {
     "slide_type": "-"
    }
   },
   "source": [
    "In the previous sections we calculated the distributions $p(X^{(t)} \\mid \\mbox{pump})$ and $p(X^{(t)} \\mid \\neg \\mbox{pump})$.  We will now see how to use these values to calculate the probability $P(\\mbox{pump} \\mid \\{x_i\\})$, the probability that a sequence of observations $x_i$ of changes in power consumption is obtained from a house with a pump."
   ]
  },
  {
   "cell_type": "markdown",
   "metadata": {
    "ein.tags": [
     "worksheet-0"
    ],
    "slideshow": {
     "slide_type": "-"
    }
   },
   "source": [
    "##### Assumptions"
   ]
  },
  {
   "cell_type": "markdown",
   "metadata": {
    "ein.tags": [
     "worksheet-0"
    ],
    "slideshow": {
     "slide_type": "-"
    }
   },
   "source": [
    "Assume that changes in power consumption are independent.  This is, of course, not exactly true (e.g. because a device cannot be turned on twice in a row), but it is required for the math to be tractable."
   ]
  },
  {
   "cell_type": "markdown",
   "metadata": {
    "ein.tags": [
     "worksheet-0"
    ],
    "slideshow": {
     "slide_type": "-"
    }
   },
   "source": [
    "##### Derivation of formula"
   ]
  },
  {
   "cell_type": "markdown",
   "metadata": {
    "ein.tags": [
     "worksheet-0"
    ],
    "slideshow": {
     "slide_type": "-"
    }
   },
   "source": [
    "\\begin{align*}\n",
    "P(\\mbox{pump} \\mid \\{x_i\\}) &= \\frac{P(\\mbox{pump}) p(\\{x_i\\} \\mid \\mbox{pump})}{p(\\{x_i\\})} & \\mbox{by Bayes' theorem} \\\\\n",
    "&= \\frac{P(\\mbox{pump}) \\prod \\limits_i p(x_i \\mid \\mbox{pump})}{p(\\{x_i\\})} & \\mbox{by independence of observations} \\\\\n",
    "\\end{align*}\n",
    "\n",
    "and similarly,\n",
    "$$\n",
    "P(\\neg \\mbox{pump} \\mid \\{x_i\\}) = \\frac{P(\\neg \\mbox{pump}) \\prod \\limits_i p(x_i \\mid \\neg \\mbox{pump})}{p(\\{x_i\\})}\n",
    "$$\n",
    "Since we know that three out of the six time series come from houses with pumps,\n",
    "$$\n",
    "P(\\mbox{pump}) = P(\\neg \\mbox{pump}) = 0.5\n",
    "$$\n",
    "Combining everything,\n",
    "$$\n",
    "\\frac{P(\\mbox{pump} \\mid \\{x_i\\})}{P(\\neg \\mbox{pump} \\mid \\{x_i\\})} = \\frac{\\prod \\limits_i p(x_i \\mid \\mbox{pump})}{\\prod \\limits_i p(x_i \\mid \\neg \\mbox{pump})}\n",
    "$$\n",
    "To avoid numerical underflow, we will calculate the logarithm of both sides of the equation:\n",
    "\n",
    "\\begin{align*}\n",
    "\\log \\frac{P(\\mbox{pump} \\mid \\{x_i\\})}{P(\\neg \\mbox{pump} \\mid \\{x_i\\})} &= \\log \\frac{\\prod \\limits_i p(x_i \\mid \\mbox{pump})}{\\prod \\limits_i p(x_i \\mid \\neg \\mbox{pump})} \\\\\n",
    "&= \\sum \\limits_i \\log p(x_i \\mid \\mbox{pump}) - \\sum \\limits_i \\log p(x_i \\mid \\neg \\mbox{pump})\n",
    "\\end{align*}\n",
    "\n",
    "The expression on the left can be rewritten in terms of the log-odds function $\\mbox{logit }p := \\log \\frac{p}{1 - p}$, so\n",
    "$$\n",
    "\\mbox{logit } P(\\mbox{pump} \\mid \\{x_i\\}) = \\sum \\limits_i \\log p(x_i \\mid \\mbox{pump}) - \\sum \\limits_i \\log p(x_i \\mid \\neg \\mbox{pump})\n",
    "$$\n",
    "Since $\\mbox{logit}$ is an increasing function, the residences with the highest probabilities of having pumps are the same as the residences with the highest values of $\\mbox{logit } P(\\mbox{pump} \\mid \\{x_i\\})$, so it suffices for us to rank residences by $\\mbox{logit } P(\\mbox{pump} \\mid \\{x_i\\})$.  On the other hand, the terms in the right-hand side of the equation above are all samples from distributions that we estimated explicitly in previous sections.  So the right-hand side can be calculated.  Here are the functions to calculate it."
   ]
  },
  {
   "cell_type": "code",
   "execution_count": 11,
   "metadata": {
    "autoscroll": "json-false",
    "collapsed": false,
    "ein.tags": [
     "worksheet-0"
    ],
    "slideshow": {
     "slide_type": "-"
    }
   },
   "outputs": [],
   "source": [
    "def log_likelihood_given_pump(d):\n",
    "    def likelihood_of_single_measurement(measurement):\n",
    "        return pdf_given_pump(measurement['timedelta'])[measurement['wattdelta']]\n",
    "\n",
    "    likelihoods = d.apply(likelihood_of_single_measurement, axis=1)\n",
    "\n",
    "    return np.log(likelihoods).sum()\n",
    "\n",
    "\n",
    "def log_likelihood_given_no_pump(d):\n",
    "    def likelihood_of_single_measurement(measurement):\n",
    "        return pdf_given_no_pump(measurement['timedelta'])[measurement['wattdelta']]\n",
    "\n",
    "    likelihoods = d.apply(likelihood_of_single_measurement, axis=1)\n",
    "\n",
    "    return np.log(likelihoods).sum()\n",
    "\n",
    "\n",
    "def log_odds_of_pump(d):\n",
    "    return log_likelihood_given_pump(d) - log_likelihood_given_no_pump(d)"
   ]
  },
  {
   "cell_type": "markdown",
   "metadata": {
    "ein.tags": [
     "worksheet-0"
    ],
    "slideshow": {
     "slide_type": "-"
    }
   },
   "source": [
    "## Result"
   ]
  },
  {
   "cell_type": "markdown",
   "metadata": {
    "ein.tags": [
     "worksheet-0"
    ],
    "slideshow": {
     "slide_type": "-"
    }
   },
   "source": [
    "Now we are ready to guess which residences have pumps."
   ]
  },
  {
   "cell_type": "code",
   "execution_count": 12,
   "metadata": {
    "autoscroll": "json-false",
    "collapsed": false,
    "ein.tags": [
     "worksheet-0"
    ],
    "slideshow": {
     "slide_type": "-"
    }
   },
   "outputs": [
    {
     "name": "stdout",
     "output_type": "stream",
     "text": [
      "log-odds of set 14 having a pump is 16631.001449021205\n",
      "log-odds of set 13 having a pump is 11512.570354557189\n",
      "log-odds of set 12 having a pump is 4514.085204111645\n",
      "log-odds of set 40 having a pump is 26986.309899553104\n",
      "log-odds of set 22 having a pump is 4760.373489192862\n",
      "log-odds of set 20 having a pump is -1577.6427598666924\n"
     ]
    }
   ],
   "source": [
    "for i, df in diffs.items():\n",
    "    log_odds = log_odds_of_pump(df)\n",
    "    print('log-odds of set {0} having a pump is {1}'.format(i, log_odds))"
   ]
  },
  {
   "cell_type": "markdown",
   "metadata": {
    "ein.tags": [
     "worksheet-0"
    ],
    "slideshow": {
     "slide_type": "-"
    }
   },
   "source": [
    "Therefore, sets 13, 14, and 40 are most likely to have pumps."
   ]
  }
 ],
 "metadata": {
  "anaconda-cloud": {},
  "kernelspec": {
   "display_name": "Python [conda root]",
   "language": "python",
   "name": "conda-root-py"
  },
  "language_info": {
   "codemirror_mode": {
    "name": "ipython",
    "version": 3
   },
   "file_extension": ".py",
   "mimetype": "text/x-python",
   "name": "python",
   "nbconvert_exporter": "python",
   "pygments_lexer": "ipython3",
   "version": "3.5.2"
  },
  "name": "pumps.ipynb"
 },
 "nbformat": 4,
 "nbformat_minor": 1
}
